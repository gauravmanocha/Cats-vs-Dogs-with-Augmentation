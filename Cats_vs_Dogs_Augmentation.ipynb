{
  "nbformat": 4,
  "nbformat_minor": 0,
  "metadata": {
    "colab": {
      "name": "Cats-vs-Dogs-Augmentation.ipynb",
      "provenance": []
    },
    "kernelspec": {
      "name": "python3",
      "display_name": "Python 3"
    }
  },
  "cells": [
    {
      "cell_type": "markdown",
      "metadata": {
        "id": "BdJNdlVYib6y",
        "colab_type": "text"
      },
      "source": [
        "Let's begin with the code..."
      ]
    },
    {
      "cell_type": "markdown",
      "metadata": {
        "id": "JuiWS4ldhcF1",
        "colab_type": "text"
      },
      "source": [
        "Downloading the Cats VS Dogs Dataset in a temperory zip folder."
      ]
    },
    {
      "cell_type": "code",
      "metadata": {
        "id": "7_S2rKamcpsl",
        "colab_type": "code",
        "outputId": "d7f3427f-4808-4dc5-89a9-08945d8a77f8",
        "colab": {
          "base_uri": "https://localhost:8080/",
          "height": 202
        }
      },
      "source": [
        "!wget --no-check-certificate \\\n",
        "    https://storage.googleapis.com/mledu-datasets/cats_and_dogs_filtered.zip \\\n",
        "    -O /tmp/cats_and_dogs_filtered.zip"
      ],
      "execution_count": 2,
      "outputs": [
        {
          "output_type": "stream",
          "text": [
            "--2020-06-06 12:05:03--  https://storage.googleapis.com/mledu-datasets/cats_and_dogs_filtered.zip\n",
            "Resolving storage.googleapis.com (storage.googleapis.com)... 108.177.126.128, 2a00:1450:4013:c05::80\n",
            "Connecting to storage.googleapis.com (storage.googleapis.com)|108.177.126.128|:443... connected.\n",
            "HTTP request sent, awaiting response... 200 OK\n",
            "Length: 68606236 (65M) [application/zip]\n",
            "Saving to: ‘/tmp/cats_and_dogs_filtered.zip’\n",
            "\n",
            "/tmp/cats_and_dogs_ 100%[===================>]  65.43M  95.7MB/s    in 0.7s    \n",
            "\n",
            "2020-06-06 12:05:05 (95.7 MB/s) - ‘/tmp/cats_and_dogs_filtered.zip’ saved [68606236/68606236]\n",
            "\n"
          ],
          "name": "stdout"
        }
      ]
    },
    {
      "cell_type": "markdown",
      "metadata": {
        "id": "z93xQnhQikKx",
        "colab_type": "text"
      },
      "source": [
        "Importing all the libraries required for the model to train."
      ]
    },
    {
      "cell_type": "code",
      "metadata": {
        "id": "NUp6VtC1cyfJ",
        "colab_type": "code",
        "colab": {}
      },
      "source": [
        "import os\n",
        "import zipfile\n",
        "import tensorflow as tf\n",
        "from tensorflow import keras\n",
        "from tensorflow.keras.preprocessing.image import ImageDataGenerator\n",
        "from tensorflow.keras.optimizers import RMSprop "
      ],
      "execution_count": 0,
      "outputs": []
    },
    {
      "cell_type": "markdown",
      "metadata": {
        "id": "WsDH7Yo2i-vg",
        "colab_type": "text"
      },
      "source": [
        "Unzipping the Zipped Dataset. The Dataset contains two sub-folders namely:\n",
        "*  train\n",
        "*  validation\n",
        "\n",
        "Inside these both sub-folders, there are two another sub-folders named cats and dogs.\n",
        "\n",
        "The train folder contains images of cats and dogs for training of the model.\n",
        "\n",
        "The validation folder contains images of cats and dogs for validating the model.\n"
      ]
    },
    {
      "cell_type": "code",
      "metadata": {
        "id": "Ssw2uyTkdXGh",
        "colab_type": "code",
        "colab": {}
      },
      "source": [
        "local_zip = '/tmp/cats_and_dogs_filtered.zip'\n",
        "zip_ref = zipfile.ZipFile(local_zip, 'r')\n",
        "zip_ref.extractall('/tmp')\n",
        "zip_ref.close()\n",
        "\n",
        "base_dir = '/tmp/cats_and_dogs_filtered'\n",
        "train_dir = os.path.join(base_dir, 'train')\n",
        "validation_dir = os.path.join(base_dir, 'validation')\n",
        "\n",
        "# Directory with our training cat pictures\n",
        "train_cats_dir = os.path.join(train_dir, 'cats')\n",
        "\n",
        "# Directory with our training dog pictures\n",
        "train_dogs_dir = os.path.join(train_dir, 'dogs')\n",
        "\n",
        "# Directory with our validation cat pictures\n",
        "validation_cats_dir = os.path.join(validation_dir, 'cats')\n",
        "\n",
        "# Directory with our validation dog pictures\n",
        "validation_dogs_dir = os.path.join(validation_dir, 'dogs')"
      ],
      "execution_count": 0,
      "outputs": []
    },
    {
      "cell_type": "markdown",
      "metadata": {
        "id": "EP2DQhmokXj2",
        "colab_type": "text"
      },
      "source": [
        "Including 4 Convulotion layers with 32, 64, 128, 256 Convulotions respectively."
      ]
    },
    {
      "cell_type": "code",
      "metadata": {
        "id": "GKj9BBizduNr",
        "colab_type": "code",
        "colab": {}
      },
      "source": [
        "model = keras.models.Sequential([ keras.layers.Conv2D(32,(3,3), input_shape=(150,150,3), activation='relu'),\n",
        "                                  keras.layers.MaxPool2D(2,2),\n",
        "                                  keras.layers.Conv2D(64,(3,3), activation='relu'),\n",
        "                                  keras.layers.MaxPool2D(2,2),\n",
        "                                  keras.layers.Conv2D(128,(3,3),activation='relu'),\n",
        "                                  keras.layers.MaxPool2D(2,2),\n",
        "                                  keras.layers.Conv2D(256,(3,3),activation='relu'),\n",
        "                                  keras.layers.MaxPool2D(2,2),\n",
        "                                  keras.layers.Flatten(),\n",
        "                                  keras.layers.Dense(128 , activation='relu'),\n",
        "                                  keras.layers.Dense(1,activation='sigmoid')\n",
        "])"
      ],
      "execution_count": 0,
      "outputs": []
    },
    {
      "cell_type": "code",
      "metadata": {
        "id": "Z7MOMQiufAI0",
        "colab_type": "code",
        "colab": {}
      },
      "source": [
        "model.compile(optimizer = RMSprop(lr=1e-4) , loss = 'binary_crossentropy' , metrics = ['accuracy'])"
      ],
      "execution_count": 0,
      "outputs": []
    },
    {
      "cell_type": "markdown",
      "metadata": {
        "id": "jiMhjQNTm0Gi",
        "colab_type": "text"
      },
      "source": [
        "Keras's ImageDataGenerator helps in augmentation of the data."
      ]
    },
    {
      "cell_type": "code",
      "metadata": {
        "id": "-MOIq_ZBmPHc",
        "colab_type": "code",
        "outputId": "3232550c-bed9-4510-c9bd-0e0766c22707",
        "colab": {
          "base_uri": "https://localhost:8080/",
          "height": 50
        }
      },
      "source": [
        "train_datagen = ImageDataGenerator(rescale = 1/255 , rotation_range=0.2 , horizontal_flip=True, shear_range=0.2,\n",
        "                                   width_shift_range= 0.2, height_shift_range= 0.2, zoom_range=0.2, fill_mode = 'nearest')\n",
        "test_datagen = ImageDataGenerator(rescale=1/255)\n",
        "\n",
        "train_gen = train_datagen.flow_from_directory(\n",
        "    train_dir,\n",
        "    batch_size = 20,\n",
        "    class_mode='binary',\n",
        "    target_size = (150,150)\n",
        ")\n",
        "\n",
        "test_gen = test_datagen.flow_from_directory(\n",
        "    validation_dir,\n",
        "    batch_size = 20,\n",
        "    class_mode='binary',\n",
        "    target_size = (150,150)\n",
        ")"
      ],
      "execution_count": 10,
      "outputs": [
        {
          "output_type": "stream",
          "text": [
            "Found 2000 images belonging to 2 classes.\n",
            "Found 1000 images belonging to 2 classes.\n"
          ],
          "name": "stdout"
        }
      ]
    },
    {
      "cell_type": "code",
      "metadata": {
        "id": "XksHdII04yr-",
        "colab_type": "code",
        "outputId": "ddbfae6d-28ae-43ea-d054-a9bc919ff5d5",
        "colab": {
          "base_uri": "https://localhost:8080/",
          "height": 1000
        }
      },
      "source": [
        "history = model.fit_generator(train_gen, steps_per_epoch=100, epochs=100, validation_data=test_gen, validation_steps=50 )"
      ],
      "execution_count": 11,
      "outputs": [
        {
          "output_type": "stream",
          "text": [
            "Epoch 1/100\n",
            "100/100 [==============================] - 105s 1s/step - loss: 0.5280 - accuracy: 0.7480 - val_loss: 0.5111 - val_accuracy: 0.7440\n",
            "Epoch 2/100\n",
            "100/100 [==============================] - 105s 1s/step - loss: 0.5086 - accuracy: 0.7560 - val_loss: 0.5096 - val_accuracy: 0.7560\n",
            "Epoch 3/100\n",
            "100/100 [==============================] - 104s 1s/step - loss: 0.4986 - accuracy: 0.7645 - val_loss: 0.4904 - val_accuracy: 0.7680\n",
            "Epoch 4/100\n",
            "100/100 [==============================] - 104s 1s/step - loss: 0.4860 - accuracy: 0.7605 - val_loss: 0.4988 - val_accuracy: 0.7640\n",
            "Epoch 5/100\n",
            "100/100 [==============================] - 104s 1s/step - loss: 0.4869 - accuracy: 0.7630 - val_loss: 0.4861 - val_accuracy: 0.7650\n",
            "Epoch 6/100\n",
            "100/100 [==============================] - 104s 1s/step - loss: 0.4765 - accuracy: 0.7720 - val_loss: 0.4758 - val_accuracy: 0.7710\n",
            "Epoch 7/100\n",
            "100/100 [==============================] - 104s 1s/step - loss: 0.4679 - accuracy: 0.7860 - val_loss: 0.4882 - val_accuracy: 0.7720\n",
            "Epoch 8/100\n",
            "100/100 [==============================] - 104s 1s/step - loss: 0.4660 - accuracy: 0.7750 - val_loss: 0.4882 - val_accuracy: 0.7690\n",
            "Epoch 9/100\n",
            "100/100 [==============================] - 104s 1s/step - loss: 0.4683 - accuracy: 0.7795 - val_loss: 0.4696 - val_accuracy: 0.7790\n",
            "Epoch 10/100\n",
            "100/100 [==============================] - 104s 1s/step - loss: 0.4548 - accuracy: 0.7890 - val_loss: 0.4692 - val_accuracy: 0.7730\n",
            "Epoch 11/100\n",
            "100/100 [==============================] - 104s 1s/step - loss: 0.4626 - accuracy: 0.7905 - val_loss: 0.4632 - val_accuracy: 0.7670\n",
            "Epoch 12/100\n",
            "100/100 [==============================] - 104s 1s/step - loss: 0.4431 - accuracy: 0.7960 - val_loss: 0.5031 - val_accuracy: 0.7620\n",
            "Epoch 13/100\n",
            "100/100 [==============================] - 104s 1s/step - loss: 0.4440 - accuracy: 0.7930 - val_loss: 0.4801 - val_accuracy: 0.7840\n",
            "Epoch 14/100\n",
            "100/100 [==============================] - 104s 1s/step - loss: 0.4465 - accuracy: 0.7915 - val_loss: 0.4640 - val_accuracy: 0.7790\n",
            "Epoch 15/100\n",
            "100/100 [==============================] - 104s 1s/step - loss: 0.4500 - accuracy: 0.7895 - val_loss: 0.4630 - val_accuracy: 0.7850\n",
            "Epoch 16/100\n",
            "100/100 [==============================] - 104s 1s/step - loss: 0.4363 - accuracy: 0.7900 - val_loss: 0.4793 - val_accuracy: 0.7800\n",
            "Epoch 17/100\n",
            "100/100 [==============================] - 104s 1s/step - loss: 0.4427 - accuracy: 0.7985 - val_loss: 0.4512 - val_accuracy: 0.7910\n",
            "Epoch 18/100\n",
            "100/100 [==============================] - 104s 1s/step - loss: 0.4206 - accuracy: 0.8115 - val_loss: 0.4903 - val_accuracy: 0.7770\n",
            "Epoch 19/100\n",
            "100/100 [==============================] - 104s 1s/step - loss: 0.4211 - accuracy: 0.8000 - val_loss: 0.4526 - val_accuracy: 0.7960\n",
            "Epoch 20/100\n",
            "100/100 [==============================] - 104s 1s/step - loss: 0.4232 - accuracy: 0.8105 - val_loss: 0.4647 - val_accuracy: 0.7840\n",
            "Epoch 21/100\n",
            "100/100 [==============================] - 104s 1s/step - loss: 0.4250 - accuracy: 0.8130 - val_loss: 0.4581 - val_accuracy: 0.7880\n",
            "Epoch 22/100\n",
            "100/100 [==============================] - 104s 1s/step - loss: 0.4100 - accuracy: 0.8075 - val_loss: 0.4594 - val_accuracy: 0.7960\n",
            "Epoch 23/100\n",
            "100/100 [==============================] - 104s 1s/step - loss: 0.4264 - accuracy: 0.8000 - val_loss: 0.4680 - val_accuracy: 0.7870\n",
            "Epoch 24/100\n",
            "100/100 [==============================] - 104s 1s/step - loss: 0.4128 - accuracy: 0.8065 - val_loss: 0.4714 - val_accuracy: 0.7960\n",
            "Epoch 25/100\n",
            "100/100 [==============================] - 104s 1s/step - loss: 0.4249 - accuracy: 0.8080 - val_loss: 0.4457 - val_accuracy: 0.7920\n",
            "Epoch 26/100\n",
            "100/100 [==============================] - 108s 1s/step - loss: 0.3922 - accuracy: 0.8035 - val_loss: 0.4538 - val_accuracy: 0.8050\n",
            "Epoch 27/100\n",
            "100/100 [==============================] - 104s 1s/step - loss: 0.3981 - accuracy: 0.8195 - val_loss: 0.4292 - val_accuracy: 0.8070\n",
            "Epoch 28/100\n",
            "100/100 [==============================] - 104s 1s/step - loss: 0.3800 - accuracy: 0.8300 - val_loss: 0.4285 - val_accuracy: 0.8060\n",
            "Epoch 29/100\n",
            "100/100 [==============================] - 104s 1s/step - loss: 0.3961 - accuracy: 0.8335 - val_loss: 0.4396 - val_accuracy: 0.8060\n",
            "Epoch 30/100\n",
            "100/100 [==============================] - 104s 1s/step - loss: 0.3938 - accuracy: 0.8145 - val_loss: 0.4357 - val_accuracy: 0.8090\n",
            "Epoch 31/100\n",
            "100/100 [==============================] - 104s 1s/step - loss: 0.3973 - accuracy: 0.8250 - val_loss: 0.5055 - val_accuracy: 0.7850\n",
            "Epoch 32/100\n",
            "100/100 [==============================] - 104s 1s/step - loss: 0.3982 - accuracy: 0.8255 - val_loss: 0.4341 - val_accuracy: 0.8040\n",
            "Epoch 33/100\n",
            "100/100 [==============================] - 104s 1s/step - loss: 0.3842 - accuracy: 0.8365 - val_loss: 0.4487 - val_accuracy: 0.8040\n",
            "Epoch 34/100\n",
            "100/100 [==============================] - 104s 1s/step - loss: 0.3817 - accuracy: 0.8430 - val_loss: 0.4323 - val_accuracy: 0.8020\n",
            "Epoch 35/100\n",
            "100/100 [==============================] - 104s 1s/step - loss: 0.3829 - accuracy: 0.8205 - val_loss: 0.4568 - val_accuracy: 0.7960\n",
            "Epoch 36/100\n",
            "100/100 [==============================] - 104s 1s/step - loss: 0.3790 - accuracy: 0.8225 - val_loss: 0.4177 - val_accuracy: 0.8100\n",
            "Epoch 37/100\n",
            "100/100 [==============================] - 104s 1s/step - loss: 0.3856 - accuracy: 0.8230 - val_loss: 0.4337 - val_accuracy: 0.8110\n",
            "Epoch 38/100\n",
            "100/100 [==============================] - 104s 1s/step - loss: 0.3656 - accuracy: 0.8400 - val_loss: 0.4983 - val_accuracy: 0.7820\n",
            "Epoch 39/100\n",
            "100/100 [==============================] - 104s 1s/step - loss: 0.3803 - accuracy: 0.8360 - val_loss: 0.4475 - val_accuracy: 0.8030\n",
            "Epoch 40/100\n",
            "100/100 [==============================] - 104s 1s/step - loss: 0.3641 - accuracy: 0.8320 - val_loss: 0.4598 - val_accuracy: 0.7920\n",
            "Epoch 41/100\n",
            "100/100 [==============================] - 104s 1s/step - loss: 0.3826 - accuracy: 0.8340 - val_loss: 0.4680 - val_accuracy: 0.7990\n",
            "Epoch 42/100\n",
            "100/100 [==============================] - 104s 1s/step - loss: 0.3783 - accuracy: 0.8280 - val_loss: 0.4188 - val_accuracy: 0.7980\n",
            "Epoch 43/100\n",
            "100/100 [==============================] - 104s 1s/step - loss: 0.3643 - accuracy: 0.8340 - val_loss: 0.6142 - val_accuracy: 0.7640\n",
            "Epoch 44/100\n",
            "100/100 [==============================] - 104s 1s/step - loss: 0.3735 - accuracy: 0.8210 - val_loss: 0.4416 - val_accuracy: 0.7980\n",
            "Epoch 45/100\n",
            "100/100 [==============================] - 105s 1s/step - loss: 0.3630 - accuracy: 0.8460 - val_loss: 0.4187 - val_accuracy: 0.8050\n",
            "Epoch 46/100\n",
            "100/100 [==============================] - 105s 1s/step - loss: 0.3684 - accuracy: 0.8375 - val_loss: 0.4315 - val_accuracy: 0.8070\n",
            "Epoch 47/100\n",
            "100/100 [==============================] - 105s 1s/step - loss: 0.3552 - accuracy: 0.8405 - val_loss: 0.4058 - val_accuracy: 0.8180\n",
            "Epoch 48/100\n",
            "100/100 [==============================] - 105s 1s/step - loss: 0.3574 - accuracy: 0.8440 - val_loss: 0.4214 - val_accuracy: 0.8170\n",
            "Epoch 49/100\n",
            "100/100 [==============================] - 105s 1s/step - loss: 0.3476 - accuracy: 0.8495 - val_loss: 0.4165 - val_accuracy: 0.8220\n",
            "Epoch 50/100\n",
            "100/100 [==============================] - 105s 1s/step - loss: 0.3558 - accuracy: 0.8430 - val_loss: 0.4187 - val_accuracy: 0.8170\n",
            "Epoch 51/100\n",
            "100/100 [==============================] - 105s 1s/step - loss: 0.3496 - accuracy: 0.8420 - val_loss: 0.4056 - val_accuracy: 0.8140\n",
            "Epoch 52/100\n",
            "100/100 [==============================] - 105s 1s/step - loss: 0.3452 - accuracy: 0.8475 - val_loss: 0.4467 - val_accuracy: 0.8040\n",
            "Epoch 53/100\n",
            "100/100 [==============================] - 104s 1s/step - loss: 0.3463 - accuracy: 0.8395 - val_loss: 0.5158 - val_accuracy: 0.7820\n",
            "Epoch 54/100\n",
            "100/100 [==============================] - 105s 1s/step - loss: 0.3382 - accuracy: 0.8565 - val_loss: 0.4611 - val_accuracy: 0.8160\n",
            "Epoch 55/100\n",
            "100/100 [==============================] - 105s 1s/step - loss: 0.3365 - accuracy: 0.8445 - val_loss: 0.4042 - val_accuracy: 0.8140\n",
            "Epoch 56/100\n",
            "100/100 [==============================] - 105s 1s/step - loss: 0.3394 - accuracy: 0.8530 - val_loss: 0.4221 - val_accuracy: 0.8200\n",
            "Epoch 57/100\n",
            "100/100 [==============================] - 105s 1s/step - loss: 0.3560 - accuracy: 0.8460 - val_loss: 0.4264 - val_accuracy: 0.8180\n",
            "Epoch 58/100\n",
            "100/100 [==============================] - 105s 1s/step - loss: 0.3450 - accuracy: 0.8470 - val_loss: 0.4207 - val_accuracy: 0.8270\n",
            "Epoch 59/100\n",
            "100/100 [==============================] - 105s 1s/step - loss: 0.3321 - accuracy: 0.8555 - val_loss: 0.4358 - val_accuracy: 0.8200\n",
            "Epoch 60/100\n",
            "100/100 [==============================] - 104s 1s/step - loss: 0.3437 - accuracy: 0.8560 - val_loss: 0.4481 - val_accuracy: 0.8100\n",
            "Epoch 61/100\n",
            "100/100 [==============================] - 104s 1s/step - loss: 0.3371 - accuracy: 0.8585 - val_loss: 0.4255 - val_accuracy: 0.8220\n",
            "Epoch 62/100\n",
            "100/100 [==============================] - 105s 1s/step - loss: 0.3203 - accuracy: 0.8600 - val_loss: 0.4400 - val_accuracy: 0.8150\n",
            "Epoch 63/100\n",
            "100/100 [==============================] - 104s 1s/step - loss: 0.3197 - accuracy: 0.8560 - val_loss: 0.5485 - val_accuracy: 0.7850\n",
            "Epoch 64/100\n",
            "100/100 [==============================] - 104s 1s/step - loss: 0.3330 - accuracy: 0.8515 - val_loss: 0.4476 - val_accuracy: 0.8080\n",
            "Epoch 65/100\n",
            "100/100 [==============================] - 104s 1s/step - loss: 0.3315 - accuracy: 0.8600 - val_loss: 0.4037 - val_accuracy: 0.8220\n",
            "Epoch 66/100\n",
            "100/100 [==============================] - 104s 1s/step - loss: 0.3259 - accuracy: 0.8515 - val_loss: 0.4059 - val_accuracy: 0.8220\n",
            "Epoch 67/100\n",
            "100/100 [==============================] - 105s 1s/step - loss: 0.3209 - accuracy: 0.8690 - val_loss: 0.4174 - val_accuracy: 0.8280\n",
            "Epoch 68/100\n",
            "100/100 [==============================] - 105s 1s/step - loss: 0.3233 - accuracy: 0.8620 - val_loss: 0.4324 - val_accuracy: 0.8160\n",
            "Epoch 69/100\n",
            "100/100 [==============================] - 105s 1s/step - loss: 0.3324 - accuracy: 0.8520 - val_loss: 0.4208 - val_accuracy: 0.8210\n",
            "Epoch 70/100\n",
            "100/100 [==============================] - 104s 1s/step - loss: 0.3336 - accuracy: 0.8545 - val_loss: 0.3965 - val_accuracy: 0.8280\n",
            "Epoch 71/100\n",
            "100/100 [==============================] - 104s 1s/step - loss: 0.3307 - accuracy: 0.8540 - val_loss: 0.4050 - val_accuracy: 0.8270\n",
            "Epoch 72/100\n",
            "100/100 [==============================] - 103s 1s/step - loss: 0.3033 - accuracy: 0.8720 - val_loss: 0.4953 - val_accuracy: 0.8080\n",
            "Epoch 73/100\n",
            "100/100 [==============================] - 103s 1s/step - loss: 0.3268 - accuracy: 0.8545 - val_loss: 0.4044 - val_accuracy: 0.8330\n",
            "Epoch 74/100\n",
            "100/100 [==============================] - 105s 1s/step - loss: 0.3128 - accuracy: 0.8595 - val_loss: 0.4385 - val_accuracy: 0.8210\n",
            "Epoch 75/100\n",
            "100/100 [==============================] - 104s 1s/step - loss: 0.3251 - accuracy: 0.8590 - val_loss: 0.4200 - val_accuracy: 0.8200\n",
            "Epoch 76/100\n",
            "100/100 [==============================] - 104s 1s/step - loss: 0.3093 - accuracy: 0.8665 - val_loss: 0.5082 - val_accuracy: 0.8180\n",
            "Epoch 77/100\n",
            "100/100 [==============================] - 109s 1s/step - loss: 0.3111 - accuracy: 0.8640 - val_loss: 0.4154 - val_accuracy: 0.8240\n",
            "Epoch 78/100\n",
            "100/100 [==============================] - 104s 1s/step - loss: 0.3142 - accuracy: 0.8595 - val_loss: 0.3909 - val_accuracy: 0.8350\n",
            "Epoch 79/100\n",
            "100/100 [==============================] - 104s 1s/step - loss: 0.3124 - accuracy: 0.8715 - val_loss: 0.4904 - val_accuracy: 0.8000\n",
            "Epoch 80/100\n",
            "100/100 [==============================] - 104s 1s/step - loss: 0.3141 - accuracy: 0.8625 - val_loss: 0.4001 - val_accuracy: 0.8310\n",
            "Epoch 81/100\n",
            "100/100 [==============================] - 104s 1s/step - loss: 0.3173 - accuracy: 0.8660 - val_loss: 0.3961 - val_accuracy: 0.8290\n",
            "Epoch 82/100\n",
            "100/100 [==============================] - 104s 1s/step - loss: 0.3028 - accuracy: 0.8655 - val_loss: 0.4336 - val_accuracy: 0.8230\n",
            "Epoch 83/100\n",
            "100/100 [==============================] - 104s 1s/step - loss: 0.2981 - accuracy: 0.8760 - val_loss: 0.4154 - val_accuracy: 0.8330\n",
            "Epoch 84/100\n",
            "100/100 [==============================] - 104s 1s/step - loss: 0.3018 - accuracy: 0.8720 - val_loss: 0.4496 - val_accuracy: 0.8140\n",
            "Epoch 85/100\n",
            "100/100 [==============================] - 104s 1s/step - loss: 0.2988 - accuracy: 0.8705 - val_loss: 0.4754 - val_accuracy: 0.8160\n",
            "Epoch 86/100\n",
            "100/100 [==============================] - 104s 1s/step - loss: 0.2959 - accuracy: 0.8710 - val_loss: 0.4180 - val_accuracy: 0.8310\n",
            "Epoch 87/100\n",
            "100/100 [==============================] - 104s 1s/step - loss: 0.2903 - accuracy: 0.8800 - val_loss: 0.4426 - val_accuracy: 0.8210\n",
            "Epoch 88/100\n",
            "100/100 [==============================] - 104s 1s/step - loss: 0.2968 - accuracy: 0.8730 - val_loss: 0.3979 - val_accuracy: 0.8380\n",
            "Epoch 89/100\n",
            "100/100 [==============================] - 104s 1s/step - loss: 0.3119 - accuracy: 0.8625 - val_loss: 0.4196 - val_accuracy: 0.8320\n",
            "Epoch 90/100\n",
            "100/100 [==============================] - 104s 1s/step - loss: 0.2790 - accuracy: 0.8795 - val_loss: 0.3894 - val_accuracy: 0.8400\n",
            "Epoch 91/100\n",
            "100/100 [==============================] - 104s 1s/step - loss: 0.2777 - accuracy: 0.8885 - val_loss: 0.3953 - val_accuracy: 0.8360\n",
            "Epoch 92/100\n",
            "100/100 [==============================] - 104s 1s/step - loss: 0.2996 - accuracy: 0.8725 - val_loss: 0.4350 - val_accuracy: 0.8250\n",
            "Epoch 93/100\n",
            "100/100 [==============================] - 104s 1s/step - loss: 0.2769 - accuracy: 0.8785 - val_loss: 0.3900 - val_accuracy: 0.8370\n",
            "Epoch 94/100\n",
            "100/100 [==============================] - 104s 1s/step - loss: 0.2820 - accuracy: 0.8790 - val_loss: 0.4481 - val_accuracy: 0.8350\n",
            "Epoch 95/100\n",
            "100/100 [==============================] - 104s 1s/step - loss: 0.2927 - accuracy: 0.8735 - val_loss: 0.4539 - val_accuracy: 0.8230\n",
            "Epoch 96/100\n",
            "100/100 [==============================] - 104s 1s/step - loss: 0.2708 - accuracy: 0.8830 - val_loss: 0.4115 - val_accuracy: 0.8440\n",
            "Epoch 97/100\n",
            "100/100 [==============================] - 104s 1s/step - loss: 0.2736 - accuracy: 0.8810 - val_loss: 0.4181 - val_accuracy: 0.8290\n",
            "Epoch 98/100\n",
            "100/100 [==============================] - 104s 1s/step - loss: 0.2775 - accuracy: 0.8850 - val_loss: 0.4259 - val_accuracy: 0.8420\n",
            "Epoch 99/100\n",
            "100/100 [==============================] - 104s 1s/step - loss: 0.2746 - accuracy: 0.8810 - val_loss: 0.3961 - val_accuracy: 0.8400\n",
            "Epoch 100/100\n",
            "100/100 [==============================] - 104s 1s/step - loss: 0.2718 - accuracy: 0.8850 - val_loss: 0.4244 - val_accuracy: 0.8340\n"
          ],
          "name": "stdout"
        }
      ]
    },
    {
      "cell_type": "markdown",
      "metadata": {
        "id": "xAG3y1qInNgR",
        "colab_type": "text"
      },
      "source": [
        "Plotting both Accuracy and Validation Accuracy and Loss and Validation Loss."
      ]
    },
    {
      "cell_type": "code",
      "metadata": {
        "id": "9hcwOmL5dOxK",
        "colab_type": "code",
        "outputId": "544681ac-dbac-4223-d4a0-a353a58df283",
        "colab": {
          "base_uri": "https://localhost:8080/",
          "height": 545
        }
      },
      "source": [
        "import matplotlib.pyplot as plt\n",
        "acc = history.history['accuracy']\n",
        "val_acc = history.history['val_accuracy']\n",
        "loss = history.history['loss']\n",
        "val_loss = history.history['val_loss']\n",
        "\n",
        "epochs = range(len(acc))\n",
        "\n",
        "plt.plot(epochs, acc, 'bo', label='Training accuracy')\n",
        "plt.plot(epochs, val_acc, 'b', label='Validation accuracy')\n",
        "plt.title('Training and validation accuracy')\n",
        "\n",
        "plt.figure()\n",
        "\n",
        "plt.plot(epochs, loss, 'bo', label='Training Loss')\n",
        "plt.plot(epochs, val_loss, 'b', label='Validation Loss')\n",
        "plt.title('Training and validation loss')\n",
        "plt.legend()\n",
        "\n",
        "plt.show()"
      ],
      "execution_count": 12,
      "outputs": [
        {
          "output_type": "display_data",
          "data": {
            "image/png": "[encoded data removed]",
            "text/plain": [
              "<Figure size 432x288 with 1 Axes>"
            ]
          },
          "metadata": {
            "tags": [],
            "needs_background": "light"
          }
        },
        {
          "output_type": "display_data",
          "data": {
            "image/png": "[encoded data removed]",
            "text/plain": [
              "<Figure size 432x288 with 1 Axes>"
            ]
          },
          "metadata": {
            "tags": [],
            "needs_background": "light"
          }
        }
      ]
    },
    {
      "cell_type": "markdown",
      "metadata": {
        "id": "W15mPN2Kni85",
        "colab_type": "text"
      },
      "source": [
        "This code block helps in uploaing the images from the localhost for testing."
      ]
    },
    {
      "cell_type": "code",
      "metadata": {
        "id": "gDM932nRdPIv",
        "colab_type": "code",
        "colab": {
          "resources": {
            "http://localhost:8080/nbextensions/google.colab/files.js": {
              "data": "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",
              "ok": true,
              "headers": [
                [
                  "content-type",
                  "application/javascript"
                ]
              ],
              "status": 200,
              "status_text": ""
            }
          },
          "base_uri": "https://localhost:8080/",
          "height": 125
        },
        "outputId": "0cdecb8b-b433-4f45-9aef-1fcd6bd62e45"
      },
      "source": [
        "import numpy as np\n",
        "from google.colab import files\n",
        "from keras.preprocessing import image\n",
        "\n",
        "uploaded = files.upload()\n",
        "\n",
        "for fn in uploaded.keys():\n",
        " \n",
        "  # predicting images\n",
        "  path = fn\n",
        "  img = image.load_img(path, target_size=(150, 150))\n",
        "  x = image.img_to_array(img)\n",
        "  x = np.expand_dims(x, axis=0)\n",
        "\n",
        "  images = np.vstack([x])\n",
        "  classes = model.predict(images, batch_size=10)\n",
        "  print(fn)\n",
        "  print(classes)\n",
        "  if classes>[0.5]:\n",
        "    print(fn , \"is a dog\")\n",
        "  else:\n",
        "    print(fn , \"is a cat\")\n",
        " "
      ],
      "execution_count": 16,
      "outputs": [
        {
          "output_type": "display_data",
          "data": {
            "text/html": [
              "\n",
              "     <input type=\"file\" id=\"files-c02756f7-8fab-40e3-a72b-261012675da8\" name=\"files[]\" multiple disabled />\n",
              "     <output id=\"result-c02756f7-8fab-40e3-a72b-261012675da8\">\n",
              "      Upload widget is only available when the cell has been executed in the\n",
              "      current browser session. Please rerun this cell to enable.\n",
              "      </output>\n",
              "      <script src=\"/nbextensions/google.colab/files.js\"></script> "
            ],
            "text/plain": [
              "<IPython.core.display.HTML object>"
            ]
          },
          "metadata": {
            "tags": []
          }
        },
        {
          "output_type": "stream",
          "text": [
            "Saving sd.jpg to sd.jpg\n",
            "sd.jpg\n",
            "[[1.]]\n",
            "sd.jpg is a dog\n"
          ],
          "name": "stdout"
        }
      ]
    }
  ]
}